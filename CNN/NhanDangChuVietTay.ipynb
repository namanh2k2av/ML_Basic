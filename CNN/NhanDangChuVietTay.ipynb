{
 "cells": [
  {
   "cell_type": "code",
   "execution_count": 15,
   "metadata": {},
   "outputs": [],
   "source": [
    "# import thư viện\n",
    "import numpy as np\n",
    "import csv\n",
    "import matplotlib.pyplot as plt\n",
    "from keras.models import Sequential\n",
    "from keras.layers import Dense, Dropout, Activation, Flatten\n",
    "from keras.layers import Conv2D, MaxPooling2D\n",
    "from keras.utils import np_utils\n",
    "from sklearn.model_selection import train_test_split"
   ]
  },
  {
   "cell_type": "code",
   "execution_count": 16,
   "metadata": {},
   "outputs": [],
   "source": [
    "# Đọc dữ liệu\n",
    "# link down dữ liệu : https://www.kaggle.com/datasets/sachinpatel21/az-handwritten-alphabets-in-csv-format\n",
    "with open('Handwritten_Data.csv', 'r') as csv_file:\n",
    "    result = csv.reader(csv_file)\n",
    "    rows = []\n",
    "    \n",
    "    # Đọc từng dòng của file và thêm vào list rows, mỗi phần tử của list là một dòng\n",
    "    for row in result:\n",
    "        rows.append(row)"
   ]
  },
  {
   "cell_type": "code",
   "execution_count": 17,
   "metadata": {},
   "outputs": [
    {
     "name": "stdout",
     "output_type": "stream",
     "text": [
      "(785,)\n"
     ]
    }
   ],
   "source": [
    "print(np.shape(rows[0]))"
   ]
  },
  {
   "cell_type": "code",
   "execution_count": 18,
   "metadata": {},
   "outputs": [],
   "source": [
    "train_data = [] # dữ liệu training\n",
    "train_label = [] # label của chúng\n",
    "\n",
    "for letter in rows:\n",
    "    x = np.array([int(i) for i in letter[1:]])\n",
    "    x = x.reshape(28, 28)\n",
    "    train_data.append(x)\n",
    "    train_label.append(int(letter[0]))"
   ]
  },
  {
   "cell_type": "code",
   "execution_count": 19,
   "metadata": {},
   "outputs": [
    {
     "name": "stdout",
     "output_type": "stream",
     "text": [
      "372451\n"
     ]
    }
   ],
   "source": [
    "print(len(train_label))"
   ]
  },
  {
   "cell_type": "code",
   "execution_count": 20,
   "metadata": {},
   "outputs": [
    {
     "name": "stdout",
     "output_type": "stream",
     "text": [
      "3\n",
      "(372451, 28, 28)\n"
     ]
    }
   ],
   "source": [
    "# Xáo trộn dữ liệu\n",
    "import random\n",
    "\n",
    "shuffle_order = list(range(372451))\n",
    "random.shuffle(shuffle_order)\n",
    "\n",
    "train_data = np.array(train_data)\n",
    "train_label = np.array(train_label)\n",
    "\n",
    "train_data = train_data[shuffle_order]\n",
    "train_label = train_label[shuffle_order]\n",
    "print(train_label[0])\n",
    "print(train_data.shape)"
   ]
  },
  {
   "cell_type": "code",
   "execution_count": 21,
   "metadata": {},
   "outputs": [
    {
     "name": "stdout",
     "output_type": "stream",
     "text": [
      "223470\n",
      "74491\n",
      "74490\n"
     ]
    }
   ],
   "source": [
    "X_train, X_test, y_train, y_test = train_test_split(train_data, train_label, test_size=0.2, random_state=1)\n",
    "X_train, X_val, y_train, y_val = train_test_split(X_train, y_train, test_size=0.25, random_state=1)\n",
    "print(len(X_train))\n",
    "print(len(X_test))\n",
    "print(len(X_val))"
   ]
  },
  {
   "cell_type": "code",
   "execution_count": 22,
   "metadata": {},
   "outputs": [
    {
     "name": "stdout",
     "output_type": "stream",
     "text": [
      "(223470, 28, 28, 1)\n"
     ]
    }
   ],
   "source": [
    "X_train = X_train.reshape(X_train.shape[0], 28, 28, 1)\n",
    "X_val = X_val.reshape(X_val.shape[0], 28, 28, 1)\n",
    "X_test = X_test.reshape(X_test.shape[0], 28, 28, 1)\n",
    "print(X_train.shape)"
   ]
  },
  {
   "cell_type": "code",
   "execution_count": 23,
   "metadata": {},
   "outputs": [
    {
     "name": "stdout",
     "output_type": "stream",
     "text": [
      "Dữ liệu y ban đầu:  20\n",
      "Dữ liệu y sau one-hot encoding:  [0. 0. 0. 0. 0. 0. 0. 0. 0. 0. 0. 0. 0. 0. 0. 0. 0. 0. 0. 0. 1. 0. 0. 0.\n",
      " 0. 0.]\n"
     ]
    }
   ],
   "source": [
    "# 4. One hot encoding label (Y)\n",
    "Y_train = np_utils.to_categorical(y_train, 26)\n",
    "Y_val = np_utils.to_categorical(y_val, 26)\n",
    "Y_test = np_utils.to_categorical(y_test, 26)\n",
    "print('Dữ liệu y ban đầu: ', y_train[0])\n",
    "print('Dữ liệu y sau one-hot encoding: ', Y_train[0])"
   ]
  },
  {
   "cell_type": "code",
   "execution_count": 27,
   "metadata": {},
   "outputs": [],
   "source": [
    "# 5. Định nghĩa model\n",
    "model = Sequential()\n",
    "\n",
    "# Thêm Convolutional layer với 32 kernel, kích thước kernel 3*3\n",
    "# Dùng hàm sigmoid làm activation và chỉ rõ input_shape cho layer đầu tiên\n",
    "model.add(Conv2D(32, (3, 3), activation='sigmoid', input_shape=(28, 28, 1)))\n",
    "\n",
    "# Thêm Convolutional layer\n",
    "model.add(Conv2D(32, (3, 3), activation='sigmoid'))\n",
    "\n",
    "# Thêm Max pooling layer\n",
    "model.add(MaxPooling2D(pool_size=(2, 2)))\n",
    "\n",
    "# Flatten layer chuyển từ tensor sang vector\n",
    "model.add(Flatten())\n",
    "\n",
    "# Thêm Fully connected layer với 128 nodes và dùng hàm sigmoid\n",
    "model.add(Dense(128, activation='sigmoid'))\n",
    "\n",
    "# Output layer với 26 node và dùng softmax function để chuyển sang xác suất\n",
    "model.add(Dense(26, activation='softmax'))"
   ]
  },
  {
   "cell_type": "code",
   "execution_count": 28,
   "metadata": {},
   "outputs": [],
   "source": [
    "model.compile(loss='categorical_crossentropy', optimizer='adam', metrics=['accuracy'])"
   ]
  },
  {
   "cell_type": "code",
   "execution_count": 29,
   "metadata": {},
   "outputs": [
    {
     "name": "stdout",
     "output_type": "stream",
     "text": [
      "Epoch 1/10\n",
      "6984/6984 [==============================] - 250s 36ms/step - loss: 0.2173 - accuracy: 0.9459 - val_loss: 0.0806 - val_accuracy: 0.9773\n",
      "Epoch 2/10\n",
      "6984/6984 [==============================] - 250s 36ms/step - loss: 0.0609 - accuracy: 0.9833 - val_loss: 0.0637 - val_accuracy: 0.9815\n",
      "Epoch 3/10\n",
      "6984/6984 [==============================] - 253s 36ms/step - loss: 0.0419 - accuracy: 0.9884 - val_loss: 0.0510 - val_accuracy: 0.9857\n",
      "Epoch 4/10\n",
      "6984/6984 [==============================] - 248s 35ms/step - loss: 0.0311 - accuracy: 0.9911 - val_loss: 0.0444 - val_accuracy: 0.9878\n",
      "Epoch 5/10\n",
      "6984/6984 [==============================] - 250s 36ms/step - loss: 0.0229 - accuracy: 0.9936 - val_loss: 0.0415 - val_accuracy: 0.9886\n",
      "Epoch 6/10\n",
      "6984/6984 [==============================] - 262s 38ms/step - loss: 0.0180 - accuracy: 0.9948 - val_loss: 0.0377 - val_accuracy: 0.9902\n",
      "Epoch 7/10\n",
      "6984/6984 [==============================] - 272s 39ms/step - loss: 0.0141 - accuracy: 0.9960 - val_loss: 0.0417 - val_accuracy: 0.9887\n",
      "Epoch 8/10\n",
      "6984/6984 [==============================] - 267s 38ms/step - loss: 0.0110 - accuracy: 0.9967 - val_loss: 0.0383 - val_accuracy: 0.9903\n",
      "Epoch 9/10\n",
      "6984/6984 [==============================] - 249s 36ms/step - loss: 0.0088 - accuracy: 0.9975 - val_loss: 0.0367 - val_accuracy: 0.9910\n",
      "Epoch 10/10\n",
      "6984/6984 [==============================] - 251s 36ms/step - loss: 0.0079 - accuracy: 0.9977 - val_loss: 0.0383 - val_accuracy: 0.9908\n"
     ]
    }
   ],
   "source": [
    "model.fit(X_train, Y_train, validation_data=(X_val, Y_val), batch_size=32, epochs=10, verbose=1)\n",
    "model.save('model2.h5')"
   ]
  },
  {
   "cell_type": "code",
   "execution_count": 42,
   "metadata": {},
   "outputs": [
    {
     "name": "stdout",
     "output_type": "stream",
     "text": [
      "Dữ liệu:  15181\n",
      "1/1 [==============================] - 0s 17ms/step\n",
      "Giá trị dự đoán:  A\n"
     ]
    },
    {
     "data": {
      "image/png": "[encoded data removed]",
      "text/plain": [
       "<Figure size 432x288 with 1 Axes>"
      ]
     },
     "metadata": {
      "needs_background": "light"
     },
     "output_type": "display_data"
    }
   ],
   "source": [
    "import random \n",
    "import string\n",
    "num2alpha = dict(zip(range(0, 26), string.ascii_uppercase))\n",
    "\n",
    "rd = random.randrange(74490)\n",
    "print('Dữ liệu: ',rd)\n",
    "plt.imshow(X_test[rd].reshape(28, 28), cmap='gray')\n",
    "y_predict = model.predict(X_test[rd].reshape(1, 28, 28, 1))\n",
    "print('Giá trị dự đoán: ', num2alpha[np.argmax(y_predict)])\n"
   ]
  }
 ],
 "metadata": {
  "kernelspec": {
   "display_name": "Python 3.7.8 64-bit",
   "language": "python",
   "name": "python3"
  },
  "language_info": {
   "codemirror_mode": {
    "name": "ipython",
    "version": 3
   },
   "file_extension": ".py",
   "mimetype": "text/x-python",
   "name": "python",
   "nbconvert_exporter": "python",
   "pygments_lexer": "ipython3",
   "version": "3.7.8"
  },
  "orig_nbformat": 4,
  "vscode": {
   "interpreter": {
    "hash": "a66fccf22190fb12d639e7df08be6a6747477817acbef5682a758dcb535dd989"
   }
  }
 },
 "nbformat": 4,
 "nbformat_minor": 2
}
