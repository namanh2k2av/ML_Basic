{
 "cells": [
  {
   "cell_type": "code",
   "execution_count": 8,
   "metadata": {},
   "outputs": [],
   "source": [
    "import keras\n",
    "from keras.datasets import fashion_mnist\n",
    "from keras.layers import Dense, Flatten\n",
    "from keras.models import Sequential"
   ]
  },
  {
   "cell_type": "code",
   "execution_count": 9,
   "metadata": {},
   "outputs": [
    {
     "name": "stdout",
     "output_type": "stream",
     "text": [
      "X_train size:  (60000, 28, 28)\n",
      "y_train size:  (60000,)\n",
      "X_test size:  (10000, 28, 28)\n",
      "y_test size:  (10000,)\n"
     ]
    }
   ],
   "source": [
    "(X_train, y_train), (X_test, y_test) = fashion_mnist.load_data()\n",
    "print('X_train size: ', X_train.shape)\n",
    "print('y_train size: ', y_train.shape)\n",
    "print('X_test size: ', X_test.shape)\n",
    "print('y_test size: ', y_test.shape)"
   ]
  },
  {
   "cell_type": "code",
   "execution_count": 10,
   "metadata": {},
   "outputs": [],
   "source": [
    "# chuẩn hóa dữ liệu\n",
    "X_train = X_train/255\n",
    "X_test = X_test/255\n",
    "\n",
    "num_classes = 10\n",
    "y_train = keras.utils.to_categorical(y_train, num_classes)\n",
    "y_test = keras.utils.to_categorical(y_test, num_classes)"
   ]
  },
  {
   "cell_type": "code",
   "execution_count": 11,
   "metadata": {},
   "outputs": [
    {
     "name": "stdout",
     "output_type": "stream",
     "text": [
      "Epoch 1/5\n",
      "6000/6000 [==============================] - 7s 1ms/step - loss: 0.0865 - accuracy: 0.8249\n",
      "Epoch 2/5\n",
      "6000/6000 [==============================] - 8s 1ms/step - loss: 0.0649 - accuracy: 0.8683\n",
      "Epoch 3/5\n",
      "6000/6000 [==============================] - 9s 1ms/step - loss: 0.0587 - accuracy: 0.8799\n",
      "Epoch 4/5\n",
      "6000/6000 [==============================] - 8s 1ms/step - loss: 0.0555 - accuracy: 0.8879\n",
      "Epoch 5/5\n",
      "6000/6000 [==============================] - 9s 1ms/step - loss: 0.0528 - accuracy: 0.8918\n"
     ]
    }
   ],
   "source": [
    "model = Sequential()\n",
    "model.add(Flatten(input_shape = (28, 28))) # vector 784 elements\n",
    "model.add(Dense(128, activation='relu')) # hidden layer1\n",
    "model.add(Dense(64, activation='relu'))# hidden layer2\n",
    "model.add(Dense(num_classes, activation='softmax')) # output layer\n",
    "\n",
    "model.compile(loss='binary_crossentropy', optimizer='Adam', metrics=['accuracy'])\n",
    "model.fit(X_train, y_train, batch_size=10, epochs=5, verbose=1)\n",
    "model.save('model.h5')"
   ]
  },
  {
   "cell_type": "code",
   "execution_count": 12,
   "metadata": {},
   "outputs": [
    {
     "name": "stdout",
     "output_type": "stream",
     "text": [
      "Test loss: 0.0625\n",
      "Test acc: 0.8722\n"
     ]
    }
   ],
   "source": [
    "from keras import metrics\n",
    "score = model.evaluate(X_test, y_test, verbose=0)\n",
    "print('Test loss: %.4f'% score[0])\n",
    "print('Test acc: %.4f'% score[1])"
   ]
  },
  {
   "cell_type": "code",
   "execution_count": 13,
   "metadata": {},
   "outputs": [
    {
     "name": "stdout",
     "output_type": "stream",
     "text": [
      "Epoch 1/6\n",
      "12000/12000 [==============================] - 25s 2ms/step - loss: 0.0831 - accuracy: 0.8284\n",
      "Epoch 2/6\n",
      "12000/12000 [==============================] - 24s 2ms/step - loss: 0.0647 - accuracy: 0.8677\n",
      "Epoch 3/6\n",
      "12000/12000 [==============================] - 20s 2ms/step - loss: 0.0594 - accuracy: 0.8792\n",
      "Epoch 4/6\n",
      "12000/12000 [==============================] - 22s 2ms/step - loss: 0.0565 - accuracy: 0.8857\n",
      "Epoch 5/6\n",
      "12000/12000 [==============================] - 24s 2ms/step - loss: 0.0541 - accuracy: 0.8903\n",
      "Epoch 6/6\n",
      "12000/12000 [==============================] - 24s 2ms/step - loss: 0.0521 - accuracy: 0.8942\n"
     ]
    }
   ],
   "source": [
    "model = Sequential()\n",
    "model.add(Flatten(input_shape = (28, 28))) # vector 784 elements\n",
    "model.add(Dense(256, activation='relu')) # hidden layer1\n",
    "model.add(Dense(128, activation='relu'))# hidden layer2\n",
    "model.add(Dense(num_classes, activation='softmax')) # output layer\n",
    "\n",
    "model.compile(loss='binary_crossentropy', optimizer='Adam', metrics=['accuracy'])\n",
    "model.fit(X_train, y_train, batch_size=5, epochs=6, verbose=1)\n",
    "model.save('model1.h5')"
   ]
  },
  {
   "cell_type": "code",
   "execution_count": 14,
   "metadata": {},
   "outputs": [
    {
     "name": "stdout",
     "output_type": "stream",
     "text": [
      "Test loss: 0.0643\n",
      "Test acc: 0.8771\n"
     ]
    }
   ],
   "source": [
    "from keras import metrics\n",
    "score = model.evaluate(X_test, y_test, verbose=0)\n",
    "print('Test loss: %.4f'% score[0])\n",
    "print('Test acc: %.4f'% score[1])"
   ]
  }
 ],
 "metadata": {
  "kernelspec": {
   "display_name": "Python 3.7.8 64-bit",
   "language": "python",
   "name": "python3"
  },
  "language_info": {
   "codemirror_mode": {
    "name": "ipython",
    "version": 3
   },
   "file_extension": ".py",
   "mimetype": "text/x-python",
   "name": "python",
   "nbconvert_exporter": "python",
   "pygments_lexer": "ipython3",
   "version": "3.7.8"
  },
  "orig_nbformat": 4,
  "vscode": {
   "interpreter": {
    "hash": "a66fccf22190fb12d639e7df08be6a6747477817acbef5682a758dcb535dd989"
   }
  }
 },
 "nbformat": 4,
 "nbformat_minor": 2
}
